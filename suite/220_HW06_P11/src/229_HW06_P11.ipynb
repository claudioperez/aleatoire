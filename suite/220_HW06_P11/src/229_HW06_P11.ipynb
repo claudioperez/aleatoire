{
 "cells": [
  {
   "cell_type": "markdown",
   "metadata": {},
   "source": [
    "# Problem 1"
   ]
  },
  {
   "cell_type": "code",
   "execution_count": 1,
   "metadata": {},
   "outputs": [],
   "source": [
    "%config InlineBackend.figure_format = 'svg'\n",
    "%config InteractiveShell.ast_node_interactivity='last_expr_or_assign'\n",
    "from lestack import *\n",
    "import mpmath\n",
    "phi = scipy.stats.norm.pdf\n",
    "invPhi = scipy.stats.norm.ppf;"
   ]
  },
  {
   "cell_type": "code",
   "execution_count": 2,
   "metadata": {},
   "outputs": [],
   "source": [
    "# My functions:\n",
    "from solrel import biMorgen, siSet, nataf, FORM"
   ]
  },
  {
   "cell_type": "markdown",
   "metadata": {},
   "source": [
    "## Set up"
   ]
  },
  {
   "cell_type": "markdown",
   "metadata": {},
   "source": [
    "#### Distributions"
   ]
  },
  {
   "cell_type": "code",
   "execution_count": 3,
   "metadata": {},
   "outputs": [],
   "source": [
    "mean1, std1 = 1200., 300.\n",
    "mean2, std2 = 12, 4.8\n",
    "rho = 0.5\n",
    "\n",
    "Rxx  = np.array([[1, rho],[rho,1]])\n",
    "Mx = np.array([[mean1],[mean2]])\n",
    "Dx = np.array([[std1,0.0],[0.0,std2]]);"
   ]
  },
  {
   "cell_type": "code",
   "execution_count": 4,
   "metadata": {},
   "outputs": [],
   "source": [
    "# Compute parameters\n",
    "lam1 = np.log(mean1)-0.5*np.log(1+(std1/mean1)**2)\n",
    "zeta = np.sqrt(np.log(1+(std1/mean1)**2))\n",
    "\n",
    "lam2 = mean2/std2**2\n",
    "k = (mean2/std2)**2;"
   ]
  },
  {
   "cell_type": "code",
   "execution_count": 5,
   "metadata": {},
   "outputs": [
    {
     "name": "stdout",
     "output_type": "stream",
     "text": [
      "1200.0000000000002   300.00000000000006\n",
      "12.0   4.8\n"
     ]
    }
   ],
   "source": [
    "# Define marginal distributions\n",
    "s = np.sqrt(np.log(std1**2/mean1**2+1))\n",
    "mu = mean1**2/np.sqrt(std1**2+mean1**2)\n",
    "X1 = scipy.stats.lognorm(s=s, scale=mu);\n",
    "X2 = scipy.stats.gamma(a=k, scale=1/lam2);\n",
    "print(X1.mean(),' ',X1.std())\n",
    "print(X2.mean(),' ',X2.std())"
   ]
  },
  {
   "cell_type": "code",
   "execution_count": 6,
   "metadata": {},
   "outputs": [],
   "source": [
    "# Define multivariate distribution\n",
    "def C(delj,deli,rho): \n",
    "    return 1.001 + 0.033*rho + 0.004*deli - 0.016*delj + 0.002*rho**2 + 0.223*deli**2 + 0.130*delj**2 + 0.029*delj*deli - 0.104*rho*deli - 0.119*rho*delj\n",
    "XYii = nataf([X1,X2], Rxx, C);"
   ]
  },
  {
   "cell_type": "markdown",
   "metadata": {},
   "source": [
    "#### Limit State"
   ]
  },
  {
   "cell_type": "code",
   "execution_count": 7,
   "metadata": {},
   "outputs": [],
   "source": [
    "def func_x(x):\n",
    "    theta = 0.5\n",
    "    x1,x2 = x[0],x[1]\n",
    "    return x1**theta - x2\n",
    "\n",
    "def grad_x(x):\n",
    "    theta = 0.5\n",
    "    return np.array ([theta*x[0]**(theta-1),-1])"
   ]
  },
  {
   "cell_type": "markdown",
   "metadata": {},
   "source": [
    "#### FORM"
   ]
  },
  {
   "cell_type": "code",
   "execution_count": 8,
   "metadata": {},
   "outputs": [
    {
     "name": "stdout",
     "output_type": "stream",
     "text": [
      "\n",
      "\n",
      "FORM Results:\n",
      "u*:    [0.26759251 3.80124488]\n",
      "x*:    [1243.45781056   35.26269682]\n",
      "alpha: [0.07023099 0.99753076]\n",
      "beta:  3.810651968512857\n",
      "pf1:   6.930038946618659e-05\n"
     ]
    }
   ],
   "source": [
    "form = FORM(XYii,func_x,grad_x)\n",
    "form.run()\n",
    "x = form.design_point_x\n",
    "u = form.design_point_u\n",
    "z = XYii.x_to_z(x)\n",
    "alpha = form.alpha\n",
    "beta = form.beta\n",
    "pf = form.pf\n",
    "form.print_analysis()"
   ]
  },
  {
   "cell_type": "markdown",
   "metadata": {},
   "source": [
    "## a)"
   ]
  },
  {
   "cell_type": "code",
   "execution_count": 9,
   "metadata": {},
   "outputs": [
    {
     "name": "stdout",
     "output_type": "stream",
     "text": [
      "\n",
      "\n",
      "Sensitivity:\n",
      "alpha: [0.0702 0.9975]\n",
      "gamma: [-0.4126  0.9109]\n"
     ]
    }
   ],
   "source": [
    "form.print_analysis(form=False,sensitivity=True)"
   ]
  },
  {
   "cell_type": "markdown",
   "metadata": {},
   "source": [
    "$Imp(U_2) > Imp(U_1)$\\\n",
    "$Imp(X_2) > Imp(X_1)$\\\n",
    "\n",
    "$\\hat{X}_1$ is a capacity variable\n",
    "$\\hat{X}_2, U_1$, and $U_2$ are demand variables"
   ]
  },
  {
   "cell_type": "markdown",
   "metadata": {},
   "source": [
    "## b)"
   ]
  },
  {
   "cell_type": "markdown",
   "metadata": {},
   "source": [
    "### Sensitivity of $\\beta$ and $p_f$ w.r.t. $\\theta$"
   ]
  },
  {
   "cell_type": "code",
   "execution_count": 10,
   "metadata": {},
   "outputs": [
    {
     "data": {
      "text/plain": [
       "30.46"
      ]
     },
     "execution_count": 10,
     "metadata": {},
     "output_type": "execute_result"
    }
   ],
   "source": [
    "grad_theta_beta = 30.46 # Hand calcs"
   ]
  },
  {
   "cell_type": "code",
   "execution_count": 11,
   "metadata": {},
   "outputs": [
    {
     "data": {
      "text/plain": [
       "-0.008539452371941867"
      ]
     },
     "execution_count": 11,
     "metadata": {},
     "output_type": "execute_result"
    }
   ],
   "source": [
    "grad_theta_pf = -phi(beta)*grad_theta_beta"
   ]
  },
  {
   "cell_type": "markdown",
   "metadata": {},
   "source": [
    "### Sensitivity of $\\beta$ and $p_f$ w.r.t. $\\lambda, \\zeta, \\lambda_2, k$"
   ]
  },
  {
   "cell_type": "code",
   "execution_count": 12,
   "metadata": {},
   "outputs": [],
   "source": [
    "J_u_tf = np.zeros((2,4))\n",
    "L0i = XYii.invL0\n",
    "J_u_tf[0,0] = L0i[0,0] * (-1/zeta)\n",
    "J_u_tf[0,1] = L0i[0,0] * (-np.log(x[0])-lam1)/zeta**2\n",
    "J_u_tf[1,2] = L0i[1,1] * 1/phi(z[1])*1/scipy.special.gamma(k)*(-lam2**(k-1)*np.exp(-x[1]))"
   ]
  },
  {
   "cell_type": "code",
   "execution_count": 13,
   "metadata": {},
   "outputs": [
    {
     "data": {
      "text/plain": [
       "array([-2.85235973e-01, -1.64331889e+01, -8.04398075e-17,  2.79287622e+00])"
      ]
     },
     "execution_count": 13,
     "metadata": {},
     "output_type": "execute_result"
    }
   ],
   "source": [
    "f = lambda t: np.exp(-t)*t**(k-1)*np.log(t)\n",
    "dG_dk = scipy.integrate.quad(f,0,np.inf)[0] # Derivative of gamma func w.r.t k\n",
    "\n",
    "T = lambda k,lam2: mpmath.meijerg(a_s=[[],[0,0]], b_s=[[k-1,-1,-1],[]], z=lam2)\n",
    "dGi_dk = np.log(lam2)*scipy.special.gammainc(k,lam2)+lam2*T(k,lam2) # Derivative of incomplete gamma func w.r.t k\n",
    "\n",
    "J_u_tf[1,3] = L0i[1,1] * (1/scipy.special.gamma(k)**2*(scipy.special.gamma(k)*dGi_dk-dG_dk*scipy.special.gammainc(k,lam2)))\n",
    "grad_tf_beta = alpha@J_u_tf"
   ]
  },
  {
   "cell_type": "code",
   "execution_count": 14,
   "metadata": {},
   "outputs": [
    {
     "data": {
      "text/plain": [
       "array([ 7.99658242e-05,  4.60703985e-03,  2.25512772e-20, -7.82982057e-04])"
      ]
     },
     "execution_count": 14,
     "metadata": {},
     "output_type": "execute_result"
    }
   ],
   "source": [
    "grad_tf_pf = -phi(beta)*grad_tf_beta"
   ]
  },
  {
   "cell_type": "markdown",
   "metadata": {},
   "source": [
    "## c)"
   ]
  },
  {
   "cell_type": "markdown",
   "metadata": {},
   "source": [
    "### Sensitivities of $\\beta,p_f$ w.r.t. means and std"
   ]
  },
  {
   "cell_type": "code",
   "execution_count": 15,
   "metadata": {},
   "outputs": [],
   "source": [
    "J_t_tf = np.zeros((4,4))\n",
    "del1 = (std1/mean1)\n",
    "J_t_tf[0,0] = (1+2*del1**2)/(mean1*(1+del1**2))\n",
    "J_t_tf[0,1] = -del1/(mean1*(1+del1**2))\n",
    "J_t_tf[1,0] = -del1**2/(zeta*mean1*(1+del1**2))\n",
    "J_t_tf[1,1] = -del1/(zeta*mean1*(1+del1**2))\n",
    "J_t_tf[2,2] = std2**(-2)                    # dlam2 wrt mean2\n",
    "J_t_tf[2,3] = -2*mean2/(std2**3)            # dlam2 wrt std2\n",
    "J_t_tf[3,2] = 2*mean2/std2**2               # dk wrt mean2\n",
    "J_t_tf[3,3] = -2*(mean2/std2)**2/std2       # dk wrt std2\n",
    "grad_tfprime_beta = grad_tf_beta@J_t_tf;"
   ]
  },
  {
   "cell_type": "code",
   "execution_count": 16,
   "metadata": {},
   "outputs": [
    {
     "data": {
      "text/plain": [
       "array([0.00301997, 2.90924606])"
      ]
     },
     "execution_count": 16,
     "metadata": {},
     "output_type": "execute_result"
    }
   ],
   "source": [
    "grad_M_beta = grad_tfprime_beta[[0,2]]"
   ]
  },
  {
   "cell_type": "code",
   "execution_count": 17,
   "metadata": {},
   "outputs": [
    {
     "data": {
      "text/plain": [
       "array([ 0.01314254, -7.27311516])"
      ]
     },
     "execution_count": 17,
     "metadata": {},
     "output_type": "execute_result"
    }
   ],
   "source": [
    "grad_D_beta = grad_tfprime_beta[[1,3]]"
   ]
  },
  {
   "cell_type": "code",
   "execution_count": 18,
   "metadata": {},
   "outputs": [
    {
     "data": {
      "text/plain": [
       "array([-8.46648750e-07, -8.15606309e-04])"
      ]
     },
     "execution_count": 18,
     "metadata": {},
     "output_type": "execute_result"
    }
   ],
   "source": [
    "grad_M_pf = -phi(beta)*grad_M_beta"
   ]
  },
  {
   "cell_type": "code",
   "execution_count": 19,
   "metadata": {},
   "outputs": [
    {
     "data": {
      "text/plain": [
       "array([-3.68450689e-06,  2.03901577e-03])"
      ]
     },
     "execution_count": 19,
     "metadata": {},
     "output_type": "execute_result"
    }
   ],
   "source": [
    "grad_D_pf = -phi(beta)*grad_D_beta"
   ]
  },
  {
   "cell_type": "markdown",
   "metadata": {},
   "source": [
    "### Sensitivity of $\\beta$ and $p_f$ w.r.t. mean and c.o.v"
   ]
  },
  {
   "cell_type": "code",
   "execution_count": 20,
   "metadata": {},
   "outputs": [],
   "source": [
    "J_std_cov = np.zeros((4,4))\n",
    "J_std_cov[0,0] = 1.0\n",
    "J_std_cov[0,1] = 0.0\n",
    "J_std_cov[1,0] = std1/mean1\n",
    "J_std_cov[1,1] = mean1\n",
    "\n",
    "J_std_cov[2,2] = 1.0\n",
    "J_std_cov[2,3] = 0.0\n",
    "J_std_cov[3,2] = std2/mean2\n",
    "J_std_cov[3,3] = mean2\n",
    "grad_tfpprime_beta = grad_tfprime_beta@J_std_cov;"
   ]
  },
  {
   "cell_type": "code",
   "execution_count": 21,
   "metadata": {},
   "outputs": [
    {
     "data": {
      "text/plain": [
       "array([6.30560820e-03, 1.53425555e-16])"
      ]
     },
     "execution_count": 21,
     "metadata": {},
     "output_type": "execute_result"
    }
   ],
   "source": [
    "grad_Mcov_beta = grad_tfpprime_beta[[0,2]]"
   ]
  },
  {
   "cell_type": "code",
   "execution_count": 22,
   "metadata": {},
   "outputs": [
    {
     "data": {
      "text/plain": [
       "array([ 15.77104598, -87.27738186])"
      ]
     },
     "execution_count": 22,
     "metadata": {},
     "output_type": "execute_result"
    }
   ],
   "source": [
    "grad_cov_beta = grad_tfpprime_beta[[1,3]]"
   ]
  },
  {
   "cell_type": "code",
   "execution_count": 23,
   "metadata": {},
   "outputs": [
    {
     "data": {
      "text/plain": [
       "array([-1.76777547e-06, -4.30128109e-20])"
      ]
     },
     "execution_count": 23,
     "metadata": {},
     "output_type": "execute_result"
    }
   ],
   "source": [
    "grad_Mcov_pf = -phi(beta)*grad_Mcov_beta"
   ]
  },
  {
   "cell_type": "code",
   "execution_count": 24,
   "metadata": {},
   "outputs": [
    {
     "data": {
      "text/plain": [
       "array([-0.00442141,  0.02446819])"
      ]
     },
     "execution_count": 24,
     "metadata": {},
     "output_type": "execute_result"
    }
   ],
   "source": [
    "grad_cov_pf = -phi(beta)*grad_cov_beta"
   ]
  },
  {
   "cell_type": "markdown",
   "metadata": {},
   "source": [
    "## d)"
   ]
  },
  {
   "cell_type": "markdown",
   "metadata": {},
   "source": [
    "### $\\delta$"
   ]
  },
  {
   "cell_type": "code",
   "execution_count": 25,
   "metadata": {},
   "outputs": [
    {
     "data": {
      "text/plain": [
       "array([ 0.90599209, 13.9643811 ])"
      ]
     },
     "execution_count": 25,
     "metadata": {},
     "output_type": "execute_result"
    }
   ],
   "source": [
    "grad_M_beta@Dx"
   ]
  },
  {
   "cell_type": "markdown",
   "metadata": {},
   "source": [
    "$Imp(\\mu_2) > Imp(\\mu_1)$"
   ]
  },
  {
   "cell_type": "markdown",
   "metadata": {},
   "source": [
    "### $\\eta$"
   ]
  },
  {
   "cell_type": "code",
   "execution_count": 26,
   "metadata": {},
   "outputs": [
    {
     "data": {
      "text/plain": [
       "array([  3.94276149, -34.91095274])"
      ]
     },
     "execution_count": 26,
     "metadata": {},
     "output_type": "execute_result"
    }
   ],
   "source": [
    "grad_D_beta@Dx"
   ]
  },
  {
   "cell_type": "markdown",
   "metadata": {},
   "source": [
    "$Imp(\\sigma_2) > Imp(\\sigma_1)$"
   ]
  },
  {
   "cell_type": "markdown",
   "metadata": {},
   "source": [
    "## e)"
   ]
  },
  {
   "cell_type": "code",
   "execution_count": 27,
   "metadata": {},
   "outputs": [
    {
     "data": {
      "text/plain": [
       "array([ 0. , 10. ,  0.5,  0. ])"
      ]
     },
     "execution_count": 27,
     "metadata": {},
     "output_type": "execute_result"
    }
   ],
   "source": [
    "d_std1 = 310 - std1 \n",
    "d_mean2 = 12.5 - mean2\n",
    "d_tf = np.array([0.0, d_std1, d_mean2, 0.0]).T"
   ]
  },
  {
   "cell_type": "code",
   "execution_count": 28,
   "metadata": {},
   "outputs": [
    {
     "data": {
      "text/plain": [
       "5.3967003826848305"
      ]
     },
     "execution_count": 28,
     "metadata": {},
     "output_type": "execute_result"
    }
   ],
   "source": [
    "new_beta = beta + d_tf.T@grad_tfprime_beta"
   ]
  }
 ],
 "metadata": {
  "kernelspec": {
   "display_name": "Python 3",
   "language": "python",
   "name": "python3"
  },
  "language_info": {
   "codemirror_mode": {
    "name": "ipython",
    "version": 3
   },
   "file_extension": ".py",
   "mimetype": "text/x-python",
   "name": "python",
   "nbconvert_exporter": "python",
   "pygments_lexer": "ipython3",
   "version": "3.7.6"
  }
 },
 "nbformat": 4,
 "nbformat_minor": 4
}
