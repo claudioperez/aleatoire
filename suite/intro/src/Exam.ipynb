{
 "cells": [
  {
   "cell_type": "markdown",
   "metadata": {},
   "source": [
    "# Problem 1"
   ]
  },
  {
   "cell_type": "markdown",
   "metadata": {
    "toc-hr-collapsed": true
   },
   "source": [
    "### Initialization"
   ]
  },
  {
   "cell_type": "code",
   "execution_count": 1,
   "metadata": {},
   "outputs": [],
   "source": [
    "# Formatting option for presentable plots:\n",
    "%config InlineBackend.figure_format = 'svg' \n",
    "\n",
    "# Formatting option to display results\n",
    "%config InteractiveShell.ast_node_interactivity='last_expr_or_assign'\n",
    "\n",
    "# External libraries; see Appendix\n",
    "from external import * \n",
    "\n",
    "# Self-written functions; see Appendix\n",
    "from internal import *"
   ]
  },
  {
   "cell_type": "markdown",
   "metadata": {
    "toc-hr-collapsed": true
   },
   "source": [
    "#### Basic Random Variables"
   ]
  },
  {
   "cell_type": "code",
   "execution_count": 2,
   "metadata": {},
   "outputs": [],
   "source": [
    "names  = np.array( ['EI',            'K',        'P'])\n",
    "stddev = np.array([[1236.1606, 0.1/np.sqrt(3),  1000]]).T\n",
    "Mx     = np.array([[8194.7583,            0.6,  5000]]).T\n",
    "Rxx    = np.eye(3)\n",
    "Dx = np.array([[stddev[j,0]*(j==i) for j in range(3)] for i in range (3)]);"
   ]
  },
  {
   "cell_type": "markdown",
   "metadata": {},
   "source": [
    "##### Marginal distributions"
   ]
  },
  {
   "cell_type": "code",
   "execution_count": 3,
   "metadata": {},
   "outputs": [],
   "source": [
    "i = 0\n",
    "s = np.sqrt(np.log(Dx[i,i]**2/Mx[i,0]**2+1))\n",
    "mu = Mx[i,0]**2/np.sqrt(Dx[i,i]**2+Mx[i,0]**2)\n",
    "X0 = stats.lognorm(s=s, scale=mu);"
   ]
  },
  {
   "cell_type": "code",
   "execution_count": 4,
   "metadata": {},
   "outputs": [],
   "source": [
    "i = 1 \n",
    "a = 0.5\n",
    "b = 0.7\n",
    "X1 = stats.uniform(loc=a, scale=(0.7-0.5))\n",
    "X1.cdf = lambda x: (x-0.5)/0.2\n",
    "X1.pdf = lambda x: 1/0.2\n",
    "X1.ppf = lambda x: x*(0.2) + 0.5"
   ]
  },
  {
   "cell_type": "code",
   "execution_count": 5,
   "metadata": {},
   "outputs": [],
   "source": [
    "i = 2\n",
    "X2 = stats.norm(loc=Mx[i,0], scale=Dx[i,i]);"
   ]
  },
  {
   "cell_type": "markdown",
   "metadata": {},
   "source": [
    "#### Events"
   ]
  },
  {
   "cell_type": "code",
   "execution_count": 6,
   "metadata": {},
   "outputs": [],
   "source": [
    "def g_x1(x):\n",
    "    return np.pi**2*x[0]/(x[1]*4)**2-x[2]\n",
    "# grad_x1 = grad(g_x1) \n",
    "\n",
    "def grad_x1(x): return np.array([np.pi**2/(x[1]*4)**2,\n",
    "                                 -2*(x[1]*4)**(-3)*4*np.pi**2*x[0],\n",
    "                                 -1.0])\n"
   ]
  },
  {
   "cell_type": "markdown",
   "metadata": {},
   "source": [
    "## Transformation\n",
    "\n",
    "The Nataf is not needed as the variables are independent, but the self-written class `Nataf` is used because it contains useful methods for displaying results.\n",
    "\n",
    "Transformation:\n",
    "$$\\begin{aligned}\n",
    "&U_{0}=\\frac{\\ln x_{0}-\\lambda}{\\zeta}\\\\\n",
    "&U_{1}=\\Phi^{-1}\\left[\\frac{x_{1}-a}{b-a}\\right]\\\\\n",
    "&U_{2}=\\frac{x_{2}-\\mu}{\\sigma}\n",
    "\\end{aligned}$$\n",
    "\n",
    "Jacobian:\n",
    "\n",
    "$$\\begin{array}{l}\n",
    "\\frac{\\partial u_{0}}{\\partial x_{0}}=\\frac{1}{\\zeta x_{0}} \\\\\n",
    "\\frac{\\partial u_{1}}{\\partial x_{1}}=\\frac{1}{\\phi\\left(u_{1}\\right)} \\frac{1}{b-a} \\\\\n",
    "\\frac{\\partial u_{2}}{\\partial x_{2}}=\\frac{1}{\\sigma}\n",
    "\\end{array}$$"
   ]
  },
  {
   "cell_type": "code",
   "execution_count": 7,
   "metadata": {},
   "outputs": [
    {
     "name": "stdout",
     "output_type": "stream",
     "text": [
      "vars: ['X1' 'X2' 'X3']\n",
      "mean: [8.194758e+03 6.000000e-01 5.000000e+03]\n",
      "stdv: [1.236161e+03 5.800000e-02 1.000000e+03]\n",
      "L0 : \n",
      " [[1. 0. 0.]\n",
      " [0. 1. 0.]\n",
      " [0. 0. 1.]]\n",
      "Rzz: \n",
      " [[1. 0. 0.]\n",
      " [0. 1. 0.]\n",
      " [0. 0. 1.]]\n",
      "Jxu: \n",
      " [[1215.    0.    0.]\n",
      " [   0.    0.    0.]\n",
      " [   0.    0. 1000.]]\n"
     ]
    }
   ],
   "source": [
    "C = np.empty((3,3), dtype=object)\n",
    "\n",
    "# X = solrel.siSet([X0,X1,X2]); # Statistically independent random variable set\n",
    "X = solrel.nataf(rvset=[X0,X1,X2], Rxx=Rxx, C=C,names=names);\n",
    "X.check_moments()"
   ]
  },
  {
   "cell_type": "markdown",
   "metadata": {},
   "source": [
    "## iHL-RF Step"
   ]
  },
  {
   "cell_type": "code",
   "execution_count": 8,
   "metadata": {},
   "outputs": [
    {
     "data": {
      "text/plain": [
       "array([-2.00323498e+00, -2.78291642e-16,  2.00000000e+00])"
      ]
     },
     "execution_count": 8,
     "metadata": {},
     "output_type": "execute_result"
    }
   ],
   "source": [
    "x0 = np.array([6000, 0.6, 7000])\n",
    "u0 = X.x_to_u(x0)"
   ]
  },
  {
   "cell_type": "code",
   "execution_count": 9,
   "metadata": {},
   "outputs": [
    {
     "name": "stdout",
     "output_type": "stream",
     "text": [
      "\n",
      "iHL-RF Algorithm (Zhang and Der Kiureghian 1995)*************** \n",
      "Initialize iHL-RF: \n",
      " u0:  [-2.0032 -0.      2.    ] \n",
      " G0:  3280.8379 \n",
      " ui:  [[-2.0032 -0.      2.    ]] \n",
      " Gi:  3280.8379 \n",
      " GradGi:  [ 1542.1257 -2734.3073 -1000.    ] \n",
      " alphai:  [[-0.4681  0.8299  0.3035]] \n",
      " spec1:  1.0 \n",
      " spec2:  2.3721 \n",
      "\n",
      "\n",
      "iHL-RF step: 1\n",
      "ui:  \n",
      " [[-1.1891]\n",
      " [ 2.1085]\n",
      " [ 0.7711]] \n",
      " Gi:  2849.1588 \n",
      " GradGi:  [ 1293.0403  -213.908  -1000.    ] \n",
      " alphai:  [[-0.7844  0.1298  0.6066]] \n",
      " spec1:  0.8684 \n",
      " spec2:  1.911 \n",
      "\n"
     ]
    }
   ],
   "source": [
    "func_u = lambda u:    g_x1(X.u_to_x(u))\n",
    "grad_u = lambda u: grad_x1(X.u_to_x(u)).T @ X.Jxu(u)\n",
    "\n",
    "ihlrf = iHLRF(func_u, grad_u, u0=u0)\n",
    "ihlrf.init(verbose=True)\n",
    "ihlrf.step(verbose=True);\n",
    "# ihlrf.init()\n",
    "# ihlrf.run()"
   ]
  },
  {
   "cell_type": "markdown",
   "metadata": {
    "toc-hr-collapsed": true
   },
   "source": [
    "## FORM Results"
   ]
  },
  {
   "cell_type": "markdown",
   "metadata": {},
   "source": [
    "### Form using previously written function"
   ]
  },
  {
   "cell_type": "code",
   "execution_count": 10,
   "metadata": {},
   "outputs": [
    {
     "name": "stdout",
     "output_type": "stream",
     "text": [
      "\n",
      "\n",
      "FORM Results:\n",
      "u*:    [-2.524  1.424  2.304]\n",
      "x*:    [5.548783e+03 6.850000e-01 7.304124e+03]\n",
      "alpha: [-0.6818  0.3845  0.6223]\n",
      "beta:  3.7026\n",
      "pf1:   0.000107\n"
     ]
    }
   ],
   "source": [
    "form = solrel.FORM(X,g_x1, grad_x1).run()\n",
    "form.print_analysis()"
   ]
  },
  {
   "cell_type": "markdown",
   "metadata": {},
   "source": [
    "### Manual Computation of FORM Variables"
   ]
  },
  {
   "cell_type": "code",
   "execution_count": 11,
   "metadata": {},
   "outputs": [
    {
     "data": {
      "text/plain": [
       "array([-2.5241799 ,  1.42209043,  2.304     ])"
      ]
     },
     "execution_count": 11,
     "metadata": {},
     "output_type": "execute_result"
    }
   ],
   "source": [
    "x_star = np.array([5549.0, 0.6845, 7304.0]) # given\n",
    "u_star = X.x_to_u(x_star)"
   ]
  },
  {
   "cell_type": "code",
   "execution_count": 12,
   "metadata": {},
   "outputs": [
    {
     "data": {
      "text/plain": [
       "array([-0.68160651,  0.38538363,  0.62200645])"
      ]
     },
     "execution_count": 12,
     "metadata": {},
     "output_type": "execute_result"
    }
   ],
   "source": [
    "alpha = -grad_u(u_star)/linalg.norm(grad_u(u_star))"
   ]
  },
  {
   "cell_type": "code",
   "execution_count": 13,
   "metadata": {},
   "outputs": [
    {
     "data": {
      "text/plain": [
       "array([3.70165068])"
      ]
     },
     "execution_count": 13,
     "metadata": {},
     "output_type": "execute_result"
    }
   ],
   "source": [
    "beta = alpha @ u_star[:,None]"
   ]
  },
  {
   "cell_type": "code",
   "execution_count": 14,
   "metadata": {},
   "outputs": [
    {
     "data": {
      "text/plain": [
       "array([0.0001071])"
      ]
     },
     "execution_count": 14,
     "metadata": {},
     "output_type": "execute_result"
    }
   ],
   "source": [
    "pf1 = Phi(-beta)"
   ]
  },
  {
   "cell_type": "markdown",
   "metadata": {},
   "source": [
    "## Importance & Nature of Variables"
   ]
  },
  {
   "cell_type": "markdown",
   "metadata": {},
   "source": [
    "Because the random variables are statistically independent, $\\alpha$ (`alpha`) may be interpreted as an importance measure for the original (untransformed) variables.\n",
    "\n",
    "$$\\operatorname{Imp}(EI) > \\operatorname{Imp}(P) > \\operatorname{Imp}(K)$$\n",
    "\n",
    "The nature of the basic random variables is determined from the sign of $\\alpha$, and these align with the intuitive interpretation for the problem:\n",
    "- $EI$: **Capacity**\n",
    "- $K$: **Demand**\n",
    "- $P$: **Demand**"
   ]
  },
  {
   "cell_type": "markdown",
   "metadata": {},
   "source": [
    "## Sensitivities\n",
    "\n",
    "$$J_{u,(\\mu,\\sigma)}=\\left[\\begin{array}{cc}\n",
    "0 & 0 \\\\\n",
    "0 & 0 \\\\\n",
    "\\frac{-1}{\\sigma} & \\frac{-x_{2}}{\\sigma^{2}}\n",
    "\\end{array}\\right]$$"
   ]
  },
  {
   "cell_type": "code",
   "execution_count": 15,
   "metadata": {},
   "outputs": [
    {
     "data": {
      "text/plain": [
       "array([[ 0.      ,  0.      ],\n",
       "       [ 0.      ,  0.      ],\n",
       "       [-0.001   , -0.007304]])"
      ]
     },
     "execution_count": 15,
     "metadata": {},
     "output_type": "execute_result"
    }
   ],
   "source": [
    "J_u_musig = np.zeros((3,2))\n",
    "J_u_musig[2,0] = -1/Dx[2,2]\n",
    "J_u_musig[2,1] = -x_star[2]/Dx[2,2]**2\n",
    "J_u_musig"
   ]
  },
  {
   "cell_type": "code",
   "execution_count": 16,
   "metadata": {},
   "outputs": [
    {
     "data": {
      "text/plain": [
       "array([-0.00062201, -0.00454314])"
      ]
     },
     "execution_count": 16,
     "metadata": {},
     "output_type": "execute_result"
    }
   ],
   "source": [
    "alpha @ J_u_musig"
   ]
  },
  {
   "cell_type": "markdown",
   "metadata": {},
   "source": [
    "## Approx. Effect of $L$"
   ]
  },
  {
   "cell_type": "code",
   "execution_count": 17,
   "metadata": {},
   "outputs": [
    {
     "data": {
      "text/plain": [
       "-2.2720216928641213"
      ]
     },
     "execution_count": 17,
     "metadata": {},
     "output_type": "execute_result"
    }
   ],
   "source": [
    "grad_gx_L = lambda x: -2*(x[1]*4)**(-3)*x[1]*np.pi**2*x[0]\n",
    "dbeta_dL = grad_gx_L(x_star)/linalg.norm(grad_u(u_star))"
   ]
  },
  {
   "cell_type": "code",
   "execution_count": 18,
   "metadata": {},
   "outputs": [
    {
     "data": {
      "text/plain": [
       "array([3.92885285])"
      ]
     },
     "execution_count": 18,
     "metadata": {},
     "output_type": "execute_result"
    }
   ],
   "source": [
    "new_beta = beta - 0.1*dbeta_dL"
   ]
  },
  {
   "cell_type": "markdown",
   "metadata": {},
   "source": [
    "## Updated Reliability"
   ]
  },
  {
   "cell_type": "code",
   "execution_count": 19,
   "metadata": {},
   "outputs": [
    {
     "data": {
      "text/plain": [
       "array([-3.147509])"
      ]
     },
     "execution_count": 19,
     "metadata": {},
     "output_type": "execute_result"
    }
   ],
   "source": [
    "alpha2 = np.array([[ 0.885, -0.466]])\n",
    "u_star2 = np.array([-2.783, 1.469])\n",
    "beta2 = (alpha2 @ u_star2[:,None])[0]"
   ]
  },
  {
   "cell_type": "code",
   "execution_count": 20,
   "metadata": {},
   "outputs": [
    {
     "data": {
      "text/plain": [
       "0.9991766598168397"
      ]
     },
     "execution_count": 20,
     "metadata": {},
     "output_type": "execute_result"
    }
   ],
   "source": [
    "Pr_e2 = Phi(-beta2)[0]"
   ]
  },
  {
   "cell_type": "code",
   "execution_count": 21,
   "metadata": {},
   "outputs": [
    {
     "data": {
      "text/plain": [
       "array([-3.70165068,  3.147509  ])"
      ]
     },
     "execution_count": 21,
     "metadata": {},
     "output_type": "execute_result"
    }
   ],
   "source": [
    "B = np.array([-beta,-beta2])[:,0]"
   ]
  },
  {
   "cell_type": "code",
   "execution_count": 22,
   "metadata": {},
   "outputs": [
    {
     "data": {
      "text/plain": [
       "0.00010701251288513536"
      ]
     },
     "execution_count": 22,
     "metadata": {},
     "output_type": "execute_result"
    }
   ],
   "source": [
    "Pr_e1e2 = MVN(B, cov=np.eye(2))"
   ]
  },
  {
   "cell_type": "code",
   "execution_count": 23,
   "metadata": {},
   "outputs": [
    {
     "data": {
      "text/plain": [
       "0.00010710069318948258"
      ]
     },
     "execution_count": 23,
     "metadata": {},
     "output_type": "execute_result"
    }
   ],
   "source": [
    "Pr_updated = Pr_e1e2/Pr_e2"
   ]
  },
  {
   "cell_type": "code",
   "execution_count": 24,
   "metadata": {},
   "outputs": [
    {
     "data": {
      "text/plain": [
       "3.7016506827903553"
      ]
     },
     "execution_count": 24,
     "metadata": {},
     "output_type": "execute_result"
    }
   ],
   "source": [
    "beta3 = -invPhi(Pr_updated)"
   ]
  },
  {
   "cell_type": "markdown",
   "metadata": {},
   "source": [
    "## Lifetime Reliability"
   ]
  },
  {
   "cell_type": "markdown",
   "metadata": {},
   "source": [
    "A rough approximation for one failure in 4 statistically independent events is given by the binomial distribution as follows:"
   ]
  },
  {
   "cell_type": "code",
   "execution_count": 25,
   "metadata": {},
   "outputs": [
    {
     "data": {
      "text/plain": [
       "array([0.00042827])"
      ]
     },
     "execution_count": 25,
     "metadata": {},
     "output_type": "execute_result"
    }
   ],
   "source": [
    "stats.binom.pmf(n=4,k=1,p=pf1)"
   ]
  },
  {
   "cell_type": "markdown",
   "metadata": {},
   "source": [
    "TIME"
   ]
  },
  {
   "cell_type": "markdown",
   "metadata": {},
   "source": [
    "# Appendix"
   ]
  },
  {
   "cell_type": "markdown",
   "metadata": {},
   "source": [
    "## External imports"
   ]
  },
  {
   "cell_type": "code",
   "execution_count": 26,
   "metadata": {},
   "outputs": [
    {
     "data": {
      "text/plain": [
       "<bound method multivariate_normal_gen.cdf of <scipy.stats._multivariate.multivariate_normal_gen object at 0x0000015FBFED4608>>"
      ]
     },
     "execution_count": 26,
     "metadata": {},
     "output_type": "execute_result"
    }
   ],
   "source": [
    "import itertools\n",
    "\n",
    "# Scientific computing libraries\n",
    "import numpy as np # Array manipulation / matrix computations\n",
    "import scipy.linalg as linalg # Additional linear algebra functions\n",
    "import scipy.stats as stats # Probability distributions\n",
    "import scipy.optimize as optimize \n",
    "from autograd import grad # Algorithmic differentiation\n",
    "\n",
    "import matplotlib.pyplot as plt # Plotting library\n",
    "from mpl_toolkits.mplot3d import Axes3D\n",
    "\n",
    "# Convenient references to standard normal functions\n",
    "phi    = stats.norm.pdf\n",
    "Phi    = stats.norm.cdf\n",
    "invPhi = stats.norm.ppf\n",
    "mvn = stats.multivariate_normal.pdf\n",
    "MVN = stats.multivariate_normal.cdf"
   ]
  },
  {
   "cell_type": "markdown",
   "metadata": {},
   "source": [
    "## Internal imports"
   ]
  },
  {
   "cell_type": "code",
   "execution_count": 27,
   "metadata": {},
   "outputs": [],
   "source": [
    "# My functions\n",
    "import solrel\n",
    "import solrel.systems as systems\n",
    "from solrel.systems import Event\n",
    "from ema.utilities.numerical import iHLRF"
   ]
  },
  {
   "cell_type": "markdown",
   "metadata": {},
   "source": [
    "## My Code"
   ]
  },
  {
   "cell_type": "markdown",
   "metadata": {},
   "source": [
    "### `class siSet`"
   ]
  },
  {
   "cell_type": "code",
   "execution_count": 28,
   "metadata": {},
   "outputs": [],
   "source": [
    "class siSet(np.ndarray):\n",
    "    \"\"\"Statistically independent random variables\"\"\"\n",
    "    def __new__(cls, rvset):\n",
    "        return np.asarray(rvset).view(cls)\n",
    "\n",
    "    def __init__(self, rvset):\n",
    "        self.rvset = rvset\n",
    "        n_dist = len(rvset)\n",
    "        self.ndist = n_dist\n",
    "\n",
    "        #  check if all distributions have finite moments\n",
    "        for x in self.rvset:\n",
    "            if (not((np.isfinite(x.mean()) and\n",
    "                     np.isfinite(x.std())))):\n",
    "                raise RuntimeError(\"The marginal distributions need to have \"\n",
    "                                   \"finite mean and variance\")\n",
    "\n",
    "\n",
    "    def u_to_x(self,u):\n",
    "        return np.array([X.ppf(stats.norm.cdf(u[i])) for i,X in enumerate(self.rvset)])\n",
    "    \n",
    "    def x_to_u(self,x):\n",
    "        return np.array([stats.norm.ppf(X.cdf(x[i])) for i,X in enumerate(self.rvset)])\n",
    "    \n",
    "    def Jxu(self,u):\n",
    "        X = self.rvset\n",
    "        snorm = stats.norm.pdf\n",
    "        d = np.identity(self.ndist)\n",
    "        x = self.u_to_x(u)\n",
    "        # return np.array ([[X[i].pdf(x[i])/snorm(u[i])*d[i,j] for i in range(self.ndist)] for j in range(self.ndist)])\n",
    "        return np.array ([[snorm(u[i])/X[i].pdf(x[i])*(i==j) for i in range(self.ndist)] for j in range(self.ndist)])\n",
    "    \n",
    "    def Jux(self,x):\n",
    "        u = self.x_to_u(x)\n",
    "        Jux = np.linalg.inv(self.Jxu(u))\n",
    "        return Jux\n",
    "\n",
    "    # def Jux(self,x):\n",
    "    #     z = self.x_to_z(x)\n",
    "    #     u = self.x_to_u(x)\n",
    "    #     snorm = stats.norm.pdf\n",
    "    #     J = np.array ([[1/snorm(u[i])*(i==j)*X[i].pdf(x[i]) for i in range(self.ndist)] for j in range(self.ndist)])\n",
    "    #     return self.invL0@J\n",
    "\n",
    "    # def Jxu(self,u):\n",
    "    #     return np.linalg.inv(self.Jux(self.u_to_x(u)))\n",
    "\n",
    "    def jpdf(self,x,y):\n",
    "        return \n"
   ]
  },
  {
   "cell_type": "markdown",
   "metadata": {},
   "source": [
    "### `class nataf`"
   ]
  },
  {
   "cell_type": "code",
   "execution_count": 29,
   "metadata": {},
   "outputs": [],
   "source": [
    "  class nataf(np.ndarray):\n",
    "    \"\"\"Nataf transformation (Liu and Der Kiureghian 1986)\"\"\"\n",
    "    def __new__(cls, rvset, Rxx, C,names=None):\n",
    "        return np.asarray(rvset).view(cls)\n",
    "\n",
    "    def __init__(self, rvset, Rxx, C,names=None):\n",
    "        self.rvset = rvset\n",
    "        self.Rxx = Rxx\n",
    "        self.C = C\n",
    "        n_dist = len(rvset)\n",
    "        self.ndist = n_dist\n",
    "\n",
    "        self.Rzz = np.identity(n=n_dist)\n",
    "        if self.ndist == 2:\n",
    "            rho = self.Rxx[0,1]\n",
    "            deli = self.rvset[0].std()/self.rvset[0].mean()\n",
    "            delj = self.rvset[1].std()/self.rvset[1].mean()\n",
    "            self.Rzz[0,1] = self.Rzz[1,0] = rho*self.C(deli,delj,rho)\n",
    "        else:\n",
    "            for i in range(self.ndist):\n",
    "                for j in range(i+1,self.ndist):\n",
    "                    if C[i,j] is not None:\n",
    "                        rho = self.Rxx[i,j]\n",
    "                        deli = self.rvset[i].std()/self.rvset[i].mean()\n",
    "                        delj = self.rvset[j].std()/self.rvset[j].mean()\n",
    "                        self.Rzz[i,j] = self.Rzz[j,i] = rho*self.C[i,j](deli,delj,rho)\n",
    "\n",
    "        self.L0 = np.linalg.cholesky(self.Rzz)\n",
    "        self.invL0 = np.linalg.inv(self.L0)\n",
    "\n",
    "    def check_moments(self):\n",
    "        dists = np.array(['X'+str(1+i) for i in range(self.ndist)])\n",
    "        means = np.around([X.mean() for X in self.rvset],3)\n",
    "        stdvs = np.around([X.std() for X in self.rvset],3)\n",
    "        print('vars:',dists)\n",
    "        print('mean:',means)\n",
    "        print('stdv:',stdvs)\n",
    "\n",
    "        print('L0 : \\n',np.around(self.L0,3))\n",
    "        print('Rzz: \\n',np.around(self.Rzz,3))\n",
    "        print('Jxu: \\n',np.around(self.Jxu(np.zeros(self.ndist)),0))\n",
    "        return\n",
    "\n",
    "    def x_to_u(self,x):\n",
    "        return self.z_to_u(self.x_to_z(x))\n",
    "\n",
    "    def u_to_x(self,u):\n",
    "        return self.z_to_x(self.u_to_z(u))\n",
    "\n",
    "    def x_to_z(self,x):\n",
    "        return np.array([stats.norm.ppf(X.cdf(x[i])) for i,X in enumerate(self.rvset)])\n",
    "    \n",
    "    def z_to_x(self,z):\n",
    "        return np.array([X.ppf(stats.norm.cdf(z[i])) for i,X in enumerate(self.rvset)])\n",
    "    \n",
    "    def z_to_u(self,z):\n",
    "        return self.invL0@z\n",
    "\n",
    "    def u_to_z(self,u):\n",
    "        return self.L0@u\n",
    "\n",
    "    def Jxu(self,u):\n",
    "        z = self.u_to_z(u)\n",
    "        x = self.u_to_x(u)\n",
    "        X = self.rvset\n",
    "        snorm = stats.norm.pdf\n",
    "        d = np.identity(self.ndist)\n",
    "        J = np.array ([[snorm(z[i])*d[i,j]/X[i].pdf(x[i]) for i in range(self.ndist)] for j in range(self.ndist)])\n",
    "        return J@self.L0\n",
    "    \n",
    "    def Jux(self,x):\n",
    "        return np.linalg.inv(self.Jxu(self.x_to_u(x)))\n",
    "\n",
    "    def jpdf(self,x,y):\n",
    "        X = self.rvset\n",
    "        zx,zy = self.x_to_z([x,y])\n",
    "        \n",
    "        pos = np.empty(zx.shape + (2,))\n",
    "        pos[:, :, 0] = zx\n",
    "        pos[:, :, 1] = zy\n",
    "        \n",
    "        mvn = stats.multivariate_normal.pdf(pos, np.zeros(2),cov=self.Rzz)\n",
    "        return mvn*(X[0].pdf(x)/stats.norm.pdf(zx)) * X[1].pdf(y)/stats.norm.pdf(zy)\n",
    "    "
   ]
  },
  {
   "cell_type": "markdown",
   "metadata": {},
   "source": [
    "### `class FORM`"
   ]
  },
  {
   "cell_type": "code",
   "execution_count": 30,
   "metadata": {},
   "outputs": [],
   "source": [
    "class FORM:\n",
    "    \"\"\"First order reliability analysis\"\"\"\n",
    "    def __init__(self, rvset, func_x, grad_x, sensitivity=False):\n",
    "        self._hasrun = False\n",
    "        self.rvset = rvset\n",
    "        self.func_x = func_x\n",
    "        self.grad_x = grad_x\n",
    "        X = rvset\n",
    "        self.func_u = lambda u: func_x(X.u_to_x(u))\n",
    "        self.grad_u = lambda u: grad_x(X.u_to_x(u)).T @ X.Jxu(u)\n",
    "        self.sensitivity = sensitivity\n",
    "\n",
    "    \n",
    "    def run(self, optimizer='scipy',loss='norm',verbose=False):\n",
    "        G = self.func_u\n",
    "        grad_u = self.grad_u\n",
    "        ndim = len(self.rvset.rvset)\n",
    "        u0 = self.rvset.x_to_u(np.array([x.mean() for x in self.rvset]))\n",
    "        \n",
    "        # loss\n",
    "        def f(u): return scipy.linalg.norm(u)\n",
    "\n",
    "        if optimizer=='ihlrf':\n",
    "            u = self.design_point_u = iHLRF(G,grad_u,u0,loss=scipy.linalg.norm).run(verbose=verbose)[:,0].T\n",
    "        else:\n",
    "            options = {'disp': verbose}\n",
    "            con = scipy.optimize.NonlinearConstraint(G, 0., 0.)\n",
    "            sol = minimize(f,np.zeros(ndim),constraints=con,options=options)\n",
    "            self.sol = sol\n",
    "            if verbose: print(sol)\n",
    "            u = self.design_point_u = sol.x\n",
    "\n",
    "        alpha = -grad_u(u)/scipy.linalg.norm(grad_u(u))\n",
    "        self.alpha = alpha\n",
    "        self.design_point_x = self.rvset.u_to_x(u)\n",
    "        self.beta = alpha@u\n",
    "        self.pf = scipy.stats.norm.cdf(-self.beta)\n",
    "\n",
    "        # Sensitivities\n",
    "        if self.sensitivity:\n",
    "            rvset=self.rvset\n",
    "            Jxu = rvset.Jxu\n",
    "            self.alpha = self.alpha\n",
    "            u = self.design_point_u \n",
    "            x = self.design_point_x\n",
    "            self.Mxl = x - Jxu(u)@u\n",
    "            self.Sxlxl = Jxu(u)@Jxu(u).T\n",
    "            self.Dxl = np.array([[np.sqrt(self.Sxlxl[0,0]),0],[0.0, np.sqrt(self.Sxlxl[1,1])]])\n",
    "            self.gamma = self.alpha@rvset.Jux(x)@self.Dxl/np.linalg.norm(self.alpha@rvset.Jux(x)@self.Dxl)\n",
    "        \n",
    "        self._hasrun = True\n",
    "        return self\n",
    "\n",
    "    def print_analysis(self,form=True,sensitivity=False):\n",
    "        if not self._hasrun: self.run()\n",
    "\n",
    "        if form:\n",
    "            print('\\n')\n",
    "            print('FORM Results:')\n",
    "            print('u*:    {}'.format(np.around(self.design_point_u,3)))\n",
    "            print('x*:    {}'.format(np.around(self.design_point_x,3)))\n",
    "            print('alpha: {}'.format(np.around(self.alpha,4)))\n",
    "            print('beta:  {}'.format(np.around(self.beta,4)))\n",
    "            print('pf1:   {}'.format(np.around(self.pf,6)))\n",
    "\n",
    "        if sensitivity:\n",
    "            if self.gamma is None: self.run(sensitivity=True)\n",
    "            print('\\n')\n",
    "            print('Sensitivity:')\n",
    "            print('alpha: {}'.format(np.around(self.alpha,4)))\n",
    "            print('gamma: {}'.format(np.around(self.gamma,4)))\n"
   ]
  },
  {
   "cell_type": "markdown",
   "metadata": {},
   "source": [
    "### `class iHLRF`"
   ]
  },
  {
   "cell_type": "code",
   "execution_count": 31,
   "metadata": {},
   "outputs": [],
   "source": [
    "class iHLRF:\n",
    "    def __init__(self, f, gradf, u0, loss=None, tol1=1.0e-4, tol2=1.0e-4, maxiter=20, maxiter_step=20):\n",
    "        self.u0 = u0\n",
    "        self.f = f \n",
    "        self.gradf = gradf\n",
    "        self.tol1 = tol1\n",
    "        self.tol2 = tol2\n",
    "        self.maxiter = maxiter\n",
    "        self.maxiter_step = maxiter_step\n",
    "        self.loss = loss\n",
    "        if loss is None: \n",
    "            self.loss = np.linalg.norm\n",
    "\n",
    "        # self.init()\n",
    "\n",
    "    def init(self,verbose=False):\n",
    "        self.G0 = self.f(self.u0) # scale parameter\n",
    "        self.ui = self.u0[None,:].T\n",
    "        self.Gi = self.f(self.ui[:,0].T)\n",
    "        self.GradGi = self.gradf(self.ui[:,0].T)\n",
    "        self.alphai = -(self.GradGi / np.linalg.norm(self.GradGi))[None,:]\n",
    "        self.count = 0\n",
    "        self.spec1 = abs(self.Gi/self.G0)\n",
    "        self.spec2 = self.loss(self.ui - (self.alphai@self.ui)*self.alphai.T )\n",
    "\n",
    "        if verbose:\n",
    "            print('\\niHL-RF Algorithm (Zhang and Der Kiureghian 1995)***************',\n",
    "                  '\\nInitialize iHL-RF: \\n',\n",
    "                  'u0: ', np.around(self.u0.T,4), '\\n',\n",
    "                  'G0: ',np.around(self.G0,4),'\\n',\n",
    "                  'ui: ', np.around(self.ui.T,4), '\\n',\n",
    "                  'Gi: ', np.around(self.Gi,4), '\\n',\n",
    "                  'GradGi: ', np.around(self.GradGi,4),'\\n',\n",
    "                  'alphai: ', np.around(self.alphai,4),'\\n',\n",
    "                  'spec1: ' , np.around(self.spec1,4),'\\n',\n",
    "                  'spec2: ' , np.around(self.spec2,4),'\\n',)\n",
    "    \n",
    "    def incr(self,basic=False, verbose=False):\n",
    "        if basic == True:\n",
    "            self.ui1 = self.ui + self.lamda * self.di\n",
    "            return self.ui1 \n",
    "\n",
    "        self.ci = self.loss(self.ui) / np.linalg.norm(self.GradGi) + 10.0\n",
    "        self.mi = 0.5*self.loss(self.ui)**2 + self.ci*abs(self.Gi)\n",
    "        self.mi1 = 0.5*self.loss(self.ui1)**2 + self.ci*abs(self.Gi1)\n",
    "\n",
    "        self.count_step = 0\n",
    "        while (self.mi1 >= self.mi) and (self.count_step <= self.maxiter_step):\n",
    "            self.lamda = self.lamda/2\n",
    "            self.ui1 = self.ui + self.lamda * self.di\n",
    "            self.Gi1 = self.f(self.ui1[:,0].T)\n",
    "            self.mi1 = 0.5*np.linalg.norm(self.ui1)**2 + self.ci*abs(self.Gi1)\n",
    "            self.count_step += 1\n",
    "\n",
    "        return self.ui1\n",
    "    \n",
    "    def dirn(self):\n",
    "        self.di = (self.Gi/np.linalg.norm(self.GradGi) + self.alphai@self.ui)*self.alphai.T - self.ui\n",
    "        return self.di\n",
    "\n",
    "    def step(self,verbose=False,basic=False):\n",
    "        # self.di = (self.Gi/np.linalg.norm(self.GradGi) + self.alphai@self.ui)*self.alphai.T - self.ui\n",
    "        di = self.dirn()\n",
    "        self.lamda = 1.0\n",
    "        self.ui1 = self.ui + self.lamda * di\n",
    "        self.Gi1 = self.f(self.ui1[:,0].T)\n",
    "\n",
    "        ui1 = self.incr(basic)\n",
    "\n",
    "        self.ui = ui1  \n",
    "        self.Gi = self.f(self.ui[:,0].T)\n",
    "        self.GradGi = self.gradf(self.ui[:,0].T)\n",
    "        self.alphai = -(self.GradGi / np.linalg.norm(self.GradGi))[None,:]\n",
    "\n",
    "        self.spec1 = abs(self.Gi/self.G0)\n",
    "        self.spec2 = self.loss(self.ui - (self.alphai@self.ui)*self.alphai.T)\n",
    "        self.count += 1\n",
    "\n",
    "\n",
    "        if verbose: print('\\niHL-RF step: {}'.format(self.count))\n",
    "\n",
    "        if verbose:\n",
    "            print('ui: ', '\\n', np.around(self.ui,4), '\\n',\n",
    "                  'Gi: ',       np.around(self.Gi,4), '\\n',\n",
    "                  'GradGi: ', np.around(self.GradGi,4),'\\n',\n",
    "                  'alphai: ', np.around(self.alphai,4),'\\n',\n",
    "                  'spec1: ' , np.around(self.spec1,4),'\\n',\n",
    "                  'spec2: ' , np.around(self.spec2,4),'\\n',)\n",
    "        return self.ui\n",
    "    \n",
    "    def run(self,verbose=False, steps=None):\n",
    "        self.init(verbose=verbose)\n",
    "        if steps is not None: self.maxiter = steps\n",
    "        while not(self.spec1 < self.tol1 and self.spec2 < self.tol2):\n",
    "            self.step(verbose=verbose)\n",
    "\n",
    "            if (self.count > self.maxiter): break\n",
    "\n",
    "        return self.ui"
   ]
  }
 ],
 "metadata": {
  "kernelspec": {
   "display_name": "Python 3",
   "language": "python",
   "name": "python3"
  },
  "language_info": {
   "codemirror_mode": {
    "name": "ipython",
    "version": 3
   },
   "file_extension": ".py",
   "mimetype": "text/x-python",
   "name": "python",
   "nbconvert_exporter": "python",
   "pygments_lexer": "ipython3",
   "version": "3.8.1"
  },
  "toc-autonumbering": true
 },
 "nbformat": 4,
 "nbformat_minor": 4
}
